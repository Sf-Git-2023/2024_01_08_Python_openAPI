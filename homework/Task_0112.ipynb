{
 "cells": [
  {
   "cell_type": "code",
   "execution_count": 8,
   "metadata": {},
   "outputs": [
    {
     "ename": "SyntaxError",
     "evalue": "'break' outside loop (2292292977.py, line 5)",
     "output_type": "error",
     "traceback": [
      "\u001b[1;36m  Cell \u001b[1;32mIn[8], line 5\u001b[1;36m\u001b[0m\n\u001b[1;33m    break\u001b[0m\n\u001b[1;37m    ^\u001b[0m\n\u001b[1;31mSyntaxError\u001b[0m\u001b[1;31m:\u001b[0m 'break' outside loop\n"
     ]
    }
   ],
   "source": [
    "status_input = input(\"按q跳出計劃\")\n",
    "        \n",
    "if status_input.lower() == 'q':\n",
    "            print(\"停止計算\")\n",
    "            break    \n",
    "\n",
    "while True:\n",
    "    \n",
    "    try:\n",
    "        height = float(input('請輸入身高(公分):'))\n",
    "        print('您的身高:', height, '公分')\n",
    "        weight = float(input('請輸入體重(公斤):'))\n",
    "        print('您的體重:', weight, '公斤')\n",
    "        BMI = weight / (height/100)**2\n",
    "\n",
    "        print('您的BMI值:', BMI)\n",
    "        \n",
    "        if(BMI >= 18.5 and BMI < 24):\n",
    "            print(\"體重正常\")\n",
    "\n",
    "        else:\n",
    "            print(\"體重須注意\")\n",
    "            \n",
    "            if(BMI < 18.5):\n",
    "                print(\"體重過輕\")\n",
    "\n",
    "            elif(BMI >= 24 and BMI < 27):\n",
    "                print(\"體重過重\")\n",
    "\n",
    "            elif(BMI >= 27 and BMI < 30):\n",
    "                print(\"輕度肥胖\")\n",
    "\n",
    "            elif(BMI >= 30 and BMI < 35):\n",
    "                print(\"中度肥胖\")\n",
    "\n",
    "            else:\n",
    "                print(\"重度肥胖\")\n",
    "\n",
    "        status_input = input(\"您還需要繼續計算嗎？[按q跳出計劃]\")\n",
    "        \n",
    "        if status_input.lower() == 'q':\n",
    "            break          \n",
    "\n",
    "    except:\n",
    "        print(\"輸入錯誤! 請輸入數字!!!\")"
   ]
  }
 ],
 "metadata": {
  "kernelspec": {
   "display_name": ".venv",
   "language": "python",
   "name": "python3"
  },
  "language_info": {
   "codemirror_mode": {
    "name": "ipython",
    "version": 3
   },
   "file_extension": ".py",
   "mimetype": "text/x-python",
   "name": "python",
   "nbconvert_exporter": "python",
   "pygments_lexer": "ipython3",
   "version": "3.10.8"
  }
 },
 "nbformat": 4,
 "nbformat_minor": 2
}
