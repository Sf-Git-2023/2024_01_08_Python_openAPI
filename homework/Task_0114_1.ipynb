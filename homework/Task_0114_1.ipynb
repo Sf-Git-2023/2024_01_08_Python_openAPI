{
 "cells": [
  {
   "cell_type": "markdown",
   "metadata": {},
   "source": [
    "### George1120901"
   ]
  },
  {
   "cell_type": "code",
   "execution_count": null,
   "metadata": {},
   "outputs": [],
   "source": [
    "import redis\n",
    "import time\n",
    "from time import strftime\n",
    "redis_conn = redis.Redis.from_url('rediss://red-xxxxxxxxxxxxxxxxx@singapore-redis.render.com:6379')\n",
    "\n",
    "time_timeticks = []\n",
    "lights = []\n",
    "distances = []\n",
    "lux = 1000\n",
    "\n",
    "for i in range(0, n):\n",
    "    time_timeticks.append(strftime(\"%Y-%m-%d %H:%M:%S\", time.localtime()))\n",
    "    lights.append(round(lux/(i+1)))\n",
    "    distances.append(round((i+1)*100))\n",
    "    redis_conn.rpush('pico:timeticks', time_timeticks[i])\n",
    "    redis_conn.hset('pico:lights', mapping={time_timeticks[i]: lights[i]})\n",
    "    redis_conn.hset('pico:distances', mapping={\n",
    "                    time_timeticks[i]: distances[i]})\n",
    "    time.sleep(sec)\n",
    "\n",
    "id_list = [item.decode()\n",
    "           for item in redis_conn.lrange('pico:timeticks', 0, -1)]\n",
    "\n",
    "for id in id_list:\n",
    "    light = redis_conn.hget('pico:lights', id).decode()\n",
    "    distance = redis_conn.hget('pico:distances', id).decode()\n",
    "    print(f'Time:{id}\\n亮度(lux):{light}\\n距離(m):{distance}')\n",
    "    print('--+++++++++++++++++++++++++--')\n",
    "\n",
    "redis_conn.close()"
   ]
  }
 ],
 "metadata": {
  "language_info": {
   "name": "python"
  }
 },
 "nbformat": 4,
 "nbformat_minor": 2
}
