{
 "cells": [
  {
   "cell_type": "markdown",
   "metadata": {},
   "source": [
    "### g12021202"
   ]
  },
  {
   "cell_type": "code",
   "execution_count": null,
   "metadata": {},
   "outputs": [],
   "source": [
    "import redis\n",
    "redis_conn = redis.Redis.from_url('rediss://XXXXXX@singapore-redis.render.com:6379', ssl_cert_reqs=\"none\")\n",
    "i=0\n",
    "for i in range(4):\n",
    "    i += 1\n",
    "    time = f\"2024-0-01-01-0{i}-00\"\n",
    "    ligth = f\"{i}00\"\n",
    "    distance = f\"{i}000\"\n",
    "    redis_conn.rpush(\"pico:timeticks\",time)\n",
    "    redis_conn.hset(\"pico:ligth\",mapping={time:ligth})\n",
    "    redis_conn.hset(\"pico:distance\",mapping={time:distance})\n",
    "\n",
    "time_list = [item.decode() for item in redis_conn.lrange(\"pico:timeticks\",0,3)]\n",
    "\n",
    "for time in time_list:\n",
    "    ligth = redis_conn.hget(\"pico:ligth\",time).decode()\n",
    "    distance = redis_conn.hget(\"pico:ligth\",time).decode()\n",
    "    print(time, ligth, distance)\n",
    "    print(\"======================\")    "
   ]
  }
 ],
 "metadata": {
  "language_info": {
   "name": "python"
  }
 },
 "nbformat": 4,
 "nbformat_minor": 2
}
