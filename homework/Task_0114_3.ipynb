{
 "cells": [
  {
   "cell_type": "markdown",
   "metadata": {},
   "source": [
    "### hsiaoyt0923"
   ]
  },
  {
   "cell_type": "code",
   "execution_count": null,
   "metadata": {},
   "outputs": [],
   "source": [
    "import redis\n",
    "\n",
    "def insert_data(time:str, light:int, distance:int):\n",
    "    redis_conn.rpush('pico:timeticks', time)\n",
    "    redis_conn.hset('pico:light', mapping={time:light})\n",
    "    redis_conn.hset('pico:distance', mapping={time:distance})\n",
    "\n",
    "redis_conn = redis.Redis.from_url('rediss://xxx.com:6379')\n",
    "\n",
    "insert_data('2024-0-01-01-01-00', 100, 900)\n",
    "insert_data('2024-0-01-01-01-10', 200, 800)\n",
    "insert_data('2024-0-01-01-01-20', 300, 700)\n",
    "insert_data('2024-0-01-01-01-30', 400, 600)\n",
    "insert_data('2024-0-01-01-01-40', 500, 500)\n",
    "\n",
    "id_list = [item.decode() for item in redis_conn.lrange('pico:timeticks',0,-1)]\n",
    "\n",
    "for id in id_list:\n",
    "    light = redis_conn.hget('pico:light', id).decode()\n",
    "    distance = redis_conn.hget('pico:distance', id).decode()\n",
    "    print(f'時間:{id}\\n亮度:{light}\\n距離:{distance}')\n",
    "    print('---------------')\n",
    "\n",
    "redis_conn.close()"
   ]
  }
 ],
 "metadata": {
  "language_info": {
   "name": "python"
  }
 },
 "nbformat": 4,
 "nbformat_minor": 2
}
